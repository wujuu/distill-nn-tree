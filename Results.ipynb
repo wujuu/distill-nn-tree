{
 "cells": [
  {
   "cell_type": "code",
   "execution_count": 1,
   "metadata": {},
   "outputs": [],
   "source": [
    "import numpy as np\n",
    "import seaborn as sns\n",
    "import pandas as pd"
   ]
  },
  {
   "cell_type": "markdown",
   "metadata": {},
   "source": [
    "## Default model architecture"
   ]
  },
  {
   "cell_type": "markdown",
   "metadata": {},
   "source": [
    "![title](model.png)"
   ]
  },
  {
   "cell_type": "code",
   "execution_count": 13,
   "metadata": {},
   "outputs": [
    {
     "data": {
      "text/html": [
       "<div>\n",
       "<style scoped>\n",
       "    .dataframe tbody tr th:only-of-type {\n",
       "        vertical-align: middle;\n",
       "    }\n",
       "\n",
       "    .dataframe tbody tr th {\n",
       "        vertical-align: top;\n",
       "    }\n",
       "\n",
       "    .dataframe thead th {\n",
       "        text-align: right;\n",
       "    }\n",
       "</style>\n",
       "<table border=\"1\" class=\"dataframe\">\n",
       "  <thead>\n",
       "    <tr style=\"text-align: right;\">\n",
       "      <th></th>\n",
       "      <th>no_layers</th>\n",
       "      <th>nn_accuracy</th>\n",
       "      <th>distilled_tree_accuracy</th>\n",
       "    </tr>\n",
       "    <tr>\n",
       "      <th>nn_architecture</th>\n",
       "      <th></th>\n",
       "      <th></th>\n",
       "      <th></th>\n",
       "    </tr>\n",
       "  </thead>\n",
       "  <tbody>\n",
       "    <tr>\n",
       "      <th>model_1_x_128_5_x_512_dense</th>\n",
       "      <td>6</td>\n",
       "      <td>0.9206</td>\n",
       "      <td>0.7947</td>\n",
       "    </tr>\n",
       "    <tr>\n",
       "      <th>model_1_x_256_dense</th>\n",
       "      <td>1</td>\n",
       "      <td>0.9193</td>\n",
       "      <td>0.7659</td>\n",
       "    </tr>\n",
       "    <tr>\n",
       "      <th>model_1_x_128_2_x_1024_dense</th>\n",
       "      <td>3</td>\n",
       "      <td>0.9178</td>\n",
       "      <td>0.7952</td>\n",
       "    </tr>\n",
       "    <tr>\n",
       "      <th>model_1_x_64_7_x_512_dense</th>\n",
       "      <td>8</td>\n",
       "      <td>0.9101</td>\n",
       "      <td>0.7797</td>\n",
       "    </tr>\n",
       "    <tr>\n",
       "      <th>model_1_x_128_15_x_256_dense</th>\n",
       "      <td>16</td>\n",
       "      <td>0.9071</td>\n",
       "      <td>0.7795</td>\n",
       "    </tr>\n",
       "    <tr>\n",
       "      <th>model_1_x_64_30_x_256_dense</th>\n",
       "      <td>31</td>\n",
       "      <td>0.7124</td>\n",
       "      <td>0.7261</td>\n",
       "    </tr>\n",
       "  </tbody>\n",
       "</table>\n",
       "</div>"
      ],
      "text/plain": [
       "                              no_layers  nn_accuracy  distilled_tree_accuracy\n",
       "nn_architecture                                                              \n",
       "model_1_x_128_5_x_512_dense           6       0.9206                   0.7947\n",
       "model_1_x_256_dense                   1       0.9193                   0.7659\n",
       "model_1_x_128_2_x_1024_dense          3       0.9178                   0.7952\n",
       "model_1_x_64_7_x_512_dense            8       0.9101                   0.7797\n",
       "model_1_x_128_15_x_256_dense         16       0.9071                   0.7795\n",
       "model_1_x_64_30_x_256_dense          31       0.7124                   0.7261"
      ]
     },
     "execution_count": 13,
     "metadata": {},
     "output_type": "execute_result"
    }
   ],
   "source": [
    "x = [('model_1_x_64_7_x_512_dense', 8, 0.9101, 0.7797),\n",
    "      ('model_1_x_64_30_x_256_dense', 31, 0.7124, 0.7261),\n",
    "      ('model_1_x_128_2_x_1024_dense', 3, 0.9178, 0.7952),\n",
    "      ('model_1_x_128_5_x_512_dense', 6, 0.9206, 0.7947),\n",
    "      ('model_1_x_128_15_x_256_dense', 16, 0.9071, 0.7795),\n",
    "      ('model_1_x_256_dense', 1, 0.9193, 0.7659)]\n",
    "\n",
    "df = pd.DataFrame(x, columns=['nn_architecture', 'no_layers', 'nn_accuracy', 'distilled_tree_accuracy'])\n",
    "df = df.set_index('nn_architecture')\n",
    "df['no_layers'] = df['no_layers'].astype(int)\n",
    "df = df.sort_values('nn_accuracy', ascending=False)\n",
    "df"
   ]
  },
  {
   "cell_type": "code",
   "execution_count": 20,
   "metadata": {},
   "outputs": [
    {
     "data": {
      "text/plain": [
       "<AxesSubplot:xlabel='no_layers', ylabel='nn_accuracy'>"
      ]
     },
     "execution_count": 20,
     "metadata": {},
     "output_type": "execute_result"
    },
    {
     "data": {
      "image/png": "[encoded data removed]",
      "text/plain": [
       "<Figure size 432x288 with 1 Axes>"
      ]
     },
     "metadata": {
      "needs_background": "light"
     },
     "output_type": "display_data"
    }
   ],
   "source": [
    "sns.scatterplot(x='no_layers', y='nn_accuracy', data=df)"
   ]
  },
  {
   "cell_type": "code",
   "execution_count": 21,
   "metadata": {},
   "outputs": [
    {
     "data": {
      "text/plain": [
       "<AxesSubplot:xlabel='no_layers', ylabel='distilled_tree_accuracy'>"
      ]
     },
     "execution_count": 21,
     "metadata": {},
     "output_type": "execute_result"
    },
    {
     "data": {
      "image/png": "[encoded data removed]",
      "text/plain": [
       "<Figure size 432x288 with 1 Axes>"
      ]
     },
     "metadata": {
      "needs_background": "light"
     },
     "output_type": "display_data"
    }
   ],
   "source": [
    "sns.scatterplot(x='no_layers', y='distilled_tree_accuracy', data=df)"
   ]
  },
  {
   "cell_type": "code",
   "execution_count": 15,
   "metadata": {},
   "outputs": [
    {
     "data": {
      "text/html": [
       "<div>\n",
       "<style scoped>\n",
       "    .dataframe tbody tr th:only-of-type {\n",
       "        vertical-align: middle;\n",
       "    }\n",
       "\n",
       "    .dataframe tbody tr th {\n",
       "        vertical-align: top;\n",
       "    }\n",
       "\n",
       "    .dataframe thead th {\n",
       "        text-align: right;\n",
       "    }\n",
       "</style>\n",
       "<table border=\"1\" class=\"dataframe\">\n",
       "  <thead>\n",
       "    <tr style=\"text-align: right;\">\n",
       "      <th></th>\n",
       "      <th>no_layers</th>\n",
       "      <th>nn_accuracy</th>\n",
       "      <th>distilled_tree_accuracy</th>\n",
       "    </tr>\n",
       "    <tr>\n",
       "      <th>nn_architecture</th>\n",
       "      <th></th>\n",
       "      <th></th>\n",
       "      <th></th>\n",
       "    </tr>\n",
       "  </thead>\n",
       "  <tbody>\n",
       "    <tr>\n",
       "      <th>model_1_x_128_2_x_1024_dense</th>\n",
       "      <td>3</td>\n",
       "      <td>0.9178</td>\n",
       "      <td>0.7952</td>\n",
       "    </tr>\n",
       "    <tr>\n",
       "      <th>model_1_x_128_5_x_512_dense</th>\n",
       "      <td>6</td>\n",
       "      <td>0.9206</td>\n",
       "      <td>0.7947</td>\n",
       "    </tr>\n",
       "    <tr>\n",
       "      <th>model_1_x_64_7_x_512_dense</th>\n",
       "      <td>8</td>\n",
       "      <td>0.9101</td>\n",
       "      <td>0.7797</td>\n",
       "    </tr>\n",
       "    <tr>\n",
       "      <th>model_1_x_128_15_x_256_dense</th>\n",
       "      <td>16</td>\n",
       "      <td>0.9071</td>\n",
       "      <td>0.7795</td>\n",
       "    </tr>\n",
       "    <tr>\n",
       "      <th>model_1_x_256_dense</th>\n",
       "      <td>1</td>\n",
       "      <td>0.9193</td>\n",
       "      <td>0.7659</td>\n",
       "    </tr>\n",
       "    <tr>\n",
       "      <th>model_1_x_64_30_x_256_dense</th>\n",
       "      <td>31</td>\n",
       "      <td>0.7124</td>\n",
       "      <td>0.7261</td>\n",
       "    </tr>\n",
       "  </tbody>\n",
       "</table>\n",
       "</div>"
      ],
      "text/plain": [
       "                              no_layers  nn_accuracy  distilled_tree_accuracy\n",
       "nn_architecture                                                              \n",
       "model_1_x_128_2_x_1024_dense          3       0.9178                   0.7952\n",
       "model_1_x_128_5_x_512_dense           6       0.9206                   0.7947\n",
       "model_1_x_64_7_x_512_dense            8       0.9101                   0.7797\n",
       "model_1_x_128_15_x_256_dense         16       0.9071                   0.7795\n",
       "model_1_x_256_dense                   1       0.9193                   0.7659\n",
       "model_1_x_64_30_x_256_dense          31       0.7124                   0.7261"
      ]
     },
     "execution_count": 15,
     "metadata": {},
     "output_type": "execute_result"
    }
   ],
   "source": [
    "df = df.sort_values('distilled_tree_accuracy', ascending=False)\n",
    "df"
   ]
  },
  {
   "cell_type": "code",
   "execution_count": null,
   "metadata": {},
   "outputs": [],
   "source": []
  }
 ],
 "metadata": {
  "kernelspec": {
   "display_name": "distill-nn-tree-LSteMpmA",
   "language": "python",
   "name": "distill-nn-tree-lstempma"
  },
  "language_info": {
   "codemirror_mode": {
    "name": "ipython",
    "version": 3
   },
   "file_extension": ".py",
   "mimetype": "text/x-python",
   "name": "python",
   "nbconvert_exporter": "python",
   "pygments_lexer": "ipython3",
   "version": "3.7.9"
  }
 },
 "nbformat": 4,
 "nbformat_minor": 4
}
